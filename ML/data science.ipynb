{
 "cells": [
  {
   "cell_type": "code",
   "execution_count": 1,
   "id": "b54685a6-4af4-40f1-8236-70c0f8e78c0a",
   "metadata": {},
   "outputs": [
    {
     "name": "stdout",
     "output_type": "stream",
     "text": [
      "Sanju Singh\n"
     ]
    }
   ],
   "source": [
    "print(\"Sanju Singh\")"
   ]
  },
  {
   "cell_type": "code",
   "execution_count": 4,
   "id": "7baced4d-96b9-4e64-81e6-a22c19dda865",
   "metadata": {},
   "outputs": [
    {
     "data": {
      "text/plain": [
       "286"
      ]
     },
     "execution_count": 4,
     "metadata": {},
     "output_type": "execute_result"
    }
   ],
   "source": [
    "58+48+59+29+92"
   ]
  },
  {
   "cell_type": "markdown",
   "id": "9ad3dfa1-152f-4204-b4d9-d3944fe3f9b3",
   "metadata": {},
   "source": [
    "#today i will know about jupyter note book this is a web programing page "
   ]
  },
  {
   "cell_type": "code",
   "execution_count": null,
   "id": "7473d5d1-00b6-4487-bde0-061118293b38",
   "metadata": {},
   "outputs": [],
   "source": [
    "Print("
   ]
  }
 ],
 "metadata": {
  "kernelspec": {
   "display_name": "Python 3 (ipykernel)",
   "language": "python",
   "name": "python3"
  },
  "language_info": {
   "codemirror_mode": {
    "name": "ipython",
    "version": 3
   },
   "file_extension": ".py",
   "mimetype": "text/x-python",
   "name": "python",
   "nbconvert_exporter": "python",
   "pygments_lexer": "ipython3",
   "version": "3.12.4"
  }
 },
 "nbformat": 4,
 "nbformat_minor": 5
}
